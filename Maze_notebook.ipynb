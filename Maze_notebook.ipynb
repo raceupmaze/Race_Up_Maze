{
  "nbformat": 4,
  "nbformat_minor": 0,
  "metadata": {
    "colab": {
      "provenance": []
    },
    "kernelspec": {
      "name": "python3",
      "display_name": "Python 3"
    },
    "language_info": {
      "name": "python"
    }
  },
  "cells": [
    {
      "cell_type": "code",
      "execution_count": 38,
      "metadata": {
        "id": "q00c3zZNPybu",
        "colab": {
          "base_uri": "https://localhost:8080/",
          "height": 35
        },
        "outputId": "cee347ee-20fe-4b33-de8a-ec03ccb32a23"
      },
      "outputs": [
        {
          "output_type": "execute_result",
          "data": {
            "text/plain": [
              "'S....#####\\n.##.#.....\\n.##.#.####\\n...#.E....\\n.##.#####.\\n...#......\\n.###.####.\\n.....#....\\n####..###.\\n..........'"
            ],
            "application/vnd.google.colaboratory.intrinsic+json": {
              "type": "string"
            }
          },
          "metadata": {},
          "execution_count": 38
        }
      ],
      "source": [
        "file_object = open('test3.txt', encoding='utf8')\n",
        "data = file_object.read()\n",
        "data"
      ]
    },
    {
      "cell_type": "code",
      "source": [
        "array_2d = [row.split(',') for row in data.split('\\n')]\n",
        "print(array_2d)"
      ],
      "metadata": {
        "colab": {
          "base_uri": "https://localhost:8080/"
        },
        "id": "819I3qxiTNHX",
        "outputId": "eb9798a6-3d79-4f9e-b196-2c05aca251e4"
      },
      "execution_count": 39,
      "outputs": [
        {
          "output_type": "stream",
          "name": "stdout",
          "text": [
            "[['S....#####'], ['.##.#.....'], ['.##.#.####'], ['...#.E....'], ['.##.#####.'], ['...#......'], ['.###.####.'], ['.....#....'], ['####..###.'], ['..........']]\n"
          ]
        }
      ]
    },
    {
      "cell_type": "code",
      "source": [
        "array_1d = [item for sublist in array_2d for item in sublist]\n",
        "\n",
        "print(array_1d)"
      ],
      "metadata": {
        "colab": {
          "base_uri": "https://localhost:8080/"
        },
        "id": "NwmK44XyUh1X",
        "outputId": "73c9dc7d-7ed8-4883-f67c-a09084c66c9f"
      },
      "execution_count": 40,
      "outputs": [
        {
          "output_type": "stream",
          "name": "stdout",
          "text": [
            "['S....#####', '.##.#.....', '.##.#.####', '...#.E....', '.##.#####.', '...#......', '.###.####.', '.....#....', '####..###.', '..........']\n"
          ]
        }
      ]
    },
    {
      "cell_type": "code",
      "source": [
        "a = array_1d.copy()"
      ],
      "metadata": {
        "id": "9s0HlfT2U6w5"
      },
      "execution_count": 41,
      "outputs": []
    },
    {
      "cell_type": "code",
      "source": [
        "l=[]\n",
        "for i in range(len(a)):\n",
        "  l.append(list(a[i]))"
      ],
      "metadata": {
        "id": "dB4ToBPNqNsk"
      },
      "execution_count": 42,
      "outputs": []
    },
    {
      "cell_type": "code",
      "source": [
        "l"
      ],
      "metadata": {
        "colab": {
          "base_uri": "https://localhost:8080/"
        },
        "id": "4_qCcbmhqOTb",
        "outputId": "f5e2ddc0-52f8-40d5-c8a5-7673abe54e4b"
      },
      "execution_count": 43,
      "outputs": [
        {
          "output_type": "execute_result",
          "data": {
            "text/plain": [
              "[['S', '.', '.', '.', '.', '#', '#', '#', '#', '#'],\n",
              " ['.', '#', '#', '.', '#', '.', '.', '.', '.', '.'],\n",
              " ['.', '#', '#', '.', '#', '.', '#', '#', '#', '#'],\n",
              " ['.', '.', '.', '#', '.', 'E', '.', '.', '.', '.'],\n",
              " ['.', '#', '#', '.', '#', '#', '#', '#', '#', '.'],\n",
              " ['.', '.', '.', '#', '.', '.', '.', '.', '.', '.'],\n",
              " ['.', '#', '#', '#', '.', '#', '#', '#', '#', '.'],\n",
              " ['.', '.', '.', '.', '.', '#', '.', '.', '.', '.'],\n",
              " ['#', '#', '#', '#', '.', '.', '#', '#', '#', '.'],\n",
              " ['.', '.', '.', '.', '.', '.', '.', '.', '.', '.']]"
            ]
          },
          "metadata": {},
          "execution_count": 43
        }
      ]
    },
    {
      "cell_type": "code",
      "source": [
        "# finding Start position\n",
        "for i in range(len(l)):\n",
        "  for j , value in enumerate(l[i]):\n",
        "    if value == 'S':\n",
        "      print(f'Start : {i},{j}')\n",
        "      Start = (i,j)\n",
        "\n",
        "# finding end position\n",
        "for i in range(len(l)):\n",
        "  for j , value in enumerate(l[i]):\n",
        "    if value == 'E':\n",
        "      print(f'End : {i},{j}')\n",
        "      End = (i ,j)"
      ],
      "metadata": {
        "colab": {
          "base_uri": "https://localhost:8080/"
        },
        "id": "3nRaaOhl4nlL",
        "outputId": "ec0b856f-c39c-4371-8893-8bf82b2f6cd0"
      },
      "execution_count": 44,
      "outputs": [
        {
          "output_type": "stream",
          "name": "stdout",
          "text": [
            "Start : 0,0\n",
            "End : 3,5\n"
          ]
        }
      ]
    },
    {
      "cell_type": "code",
      "source": [
        "l"
      ],
      "metadata": {
        "colab": {
          "base_uri": "https://localhost:8080/"
        },
        "id": "ryPSNqQD_1uM",
        "outputId": "2d3ebf3a-3bd4-4006-bbd5-89af372b228a"
      },
      "execution_count": 45,
      "outputs": [
        {
          "output_type": "execute_result",
          "data": {
            "text/plain": [
              "[['S', '.', '.', '.', '.', '#', '#', '#', '#', '#'],\n",
              " ['.', '#', '#', '.', '#', '.', '.', '.', '.', '.'],\n",
              " ['.', '#', '#', '.', '#', '.', '#', '#', '#', '#'],\n",
              " ['.', '.', '.', '#', '.', 'E', '.', '.', '.', '.'],\n",
              " ['.', '#', '#', '.', '#', '#', '#', '#', '#', '.'],\n",
              " ['.', '.', '.', '#', '.', '.', '.', '.', '.', '.'],\n",
              " ['.', '#', '#', '#', '.', '#', '#', '#', '#', '.'],\n",
              " ['.', '.', '.', '.', '.', '#', '.', '.', '.', '.'],\n",
              " ['#', '#', '#', '#', '.', '.', '#', '#', '#', '.'],\n",
              " ['.', '.', '.', '.', '.', '.', '.', '.', '.', '.']]"
            ]
          },
          "metadata": {},
          "execution_count": 45
        }
      ]
    },
    {
      "cell_type": "code",
      "source": [
        "for i in range(len(l)):\n",
        "  for j in range(len(l[i])):\n",
        "    if l[i][j] == '.':\n",
        "      l[i][j] = 0\n",
        "    elif l[i][j] == '#':\n",
        "      l[i][j] = 1\n",
        "    elif l[i][j] == 'S':\n",
        "      l[i][j] = 0\n",
        "    elif l[i][j] == 'E':\n",
        "      l[i][j] = 0"
      ],
      "metadata": {
        "id": "uJ5o7AOsAuzd"
      },
      "execution_count": 46,
      "outputs": []
    },
    {
      "cell_type": "code",
      "source": [
        "l"
      ],
      "metadata": {
        "colab": {
          "base_uri": "https://localhost:8080/"
        },
        "id": "t_hBg5ep_iBL",
        "outputId": "7e78900e-a9af-45b7-b94e-afb0e5133138"
      },
      "execution_count": 47,
      "outputs": [
        {
          "output_type": "execute_result",
          "data": {
            "text/plain": [
              "[[0, 0, 0, 0, 0, 1, 1, 1, 1, 1],\n",
              " [0, 1, 1, 0, 1, 0, 0, 0, 0, 0],\n",
              " [0, 1, 1, 0, 1, 0, 1, 1, 1, 1],\n",
              " [0, 0, 0, 1, 0, 0, 0, 0, 0, 0],\n",
              " [0, 1, 1, 0, 1, 1, 1, 1, 1, 0],\n",
              " [0, 0, 0, 1, 0, 0, 0, 0, 0, 0],\n",
              " [0, 1, 1, 1, 0, 1, 1, 1, 1, 0],\n",
              " [0, 0, 0, 0, 0, 1, 0, 0, 0, 0],\n",
              " [1, 1, 1, 1, 0, 0, 1, 1, 1, 0],\n",
              " [0, 0, 0, 0, 0, 0, 0, 0, 0, 0]]"
            ]
          },
          "metadata": {},
          "execution_count": 47
        }
      ]
    },
    {
      "cell_type": "code",
      "source": [
        "Start"
      ],
      "metadata": {
        "colab": {
          "base_uri": "https://localhost:8080/"
        },
        "id": "xUN2Dnu-CUOO",
        "outputId": "9324916f-73c3-4c04-ae8a-f29aa048aaaf"
      },
      "execution_count": 48,
      "outputs": [
        {
          "output_type": "execute_result",
          "data": {
            "text/plain": [
              "(0, 0)"
            ]
          },
          "metadata": {},
          "execution_count": 48
        }
      ]
    },
    {
      "cell_type": "code",
      "source": [
        "End"
      ],
      "metadata": {
        "colab": {
          "base_uri": "https://localhost:8080/"
        },
        "id": "ACN9qZFSCWa7",
        "outputId": "54bd4e43-7433-42d0-9c00-0413881649ef"
      },
      "execution_count": 49,
      "outputs": [
        {
          "output_type": "execute_result",
          "data": {
            "text/plain": [
              "(3, 5)"
            ]
          },
          "metadata": {},
          "execution_count": 49
        }
      ]
    },
    {
      "cell_type": "code",
      "source": [
        "# Up Down Left Right\n",
        "directions = [(-1, 0), (1, 0), (0, -1),(0, 1)]"
      ],
      "metadata": {
        "id": "Axqoona545uz"
      },
      "execution_count": 50,
      "outputs": []
    },
    {
      "cell_type": "code",
      "source": [
        "def solve(maze,start,end):\n",
        "  Answers=[]\n",
        "  visited = []\n",
        "  rows, cols = len(maze), len(maze[0])\n",
        "  path=[]\n",
        "  path.append(start)\n",
        "  current = path[-1]\n",
        "  visited.append(current)\n",
        "  i=0\n",
        "  q=0\n",
        "  while path:\n",
        "    current = path[-1]\n",
        "    if q==1:\n",
        "      path.pop()\n",
        "    if current == end :\n",
        "      return path\n",
        "    for direction in directions:\n",
        "      row, col = current[0] + direction[0], current[1] + direction[1]\n",
        "      q=1\n",
        "      if 0 <= row < rows and 0 <= col < cols and maze[row][col] == 0 and (row, col) not in visited:\n",
        "        path.append((row,col))\n",
        "        visited.append((row, col))\n",
        "        q=0\n",
        "        break\n",
        "  return None\n",
        "path = solve(l, Start, End)\n",
        "\n",
        "#Print the result\n",
        "if path:\n",
        "    print(\"Path to the goal:\", path)\n",
        "else:\n",
        "    print(\"No path found!\")"
      ],
      "metadata": {
        "colab": {
          "base_uri": "https://localhost:8080/"
        },
        "id": "IpaCYADfIsrM",
        "outputId": "5d88f8ce-3b8e-445c-94a6-40e44722ddea"
      },
      "execution_count": 51,
      "outputs": [
        {
          "output_type": "stream",
          "name": "stdout",
          "text": [
            "Path to the goal: [(0, 0), (1, 0), (2, 0), (3, 0), (4, 0), (5, 0), (6, 0), (7, 0), (7, 1), (7, 2), (7, 3), (7, 4), (6, 4), (5, 4), (5, 5), (5, 6), (5, 7), (5, 8), (5, 9), (4, 9), (3, 9), (3, 8), (3, 7), (3, 6), (3, 5)]\n"
          ]
        }
      ]
    },
    {
      "cell_type": "code",
      "source": [
        "moves=[]\n",
        "if path:\n",
        "  for i in range(len(path)):\n",
        "    if i == len(path)-1:\n",
        "      break\n",
        "    moves.append((path[i+1][0]-path[i][0],path[i+1][1]-path[i][1]))\n",
        "moves"
      ],
      "metadata": {
        "colab": {
          "base_uri": "https://localhost:8080/"
        },
        "id": "5PJUfDkwM6qx",
        "outputId": "a4c82d62-3e8f-4946-85f6-c986835d3a69"
      },
      "execution_count": 52,
      "outputs": [
        {
          "output_type": "execute_result",
          "data": {
            "text/plain": [
              "[(1, 0),\n",
              " (1, 0),\n",
              " (1, 0),\n",
              " (1, 0),\n",
              " (1, 0),\n",
              " (1, 0),\n",
              " (1, 0),\n",
              " (0, 1),\n",
              " (0, 1),\n",
              " (0, 1),\n",
              " (0, 1),\n",
              " (-1, 0),\n",
              " (-1, 0),\n",
              " (0, 1),\n",
              " (0, 1),\n",
              " (0, 1),\n",
              " (0, 1),\n",
              " (0, 1),\n",
              " (-1, 0),\n",
              " (-1, 0),\n",
              " (0, -1),\n",
              " (0, -1),\n",
              " (0, -1),\n",
              " (0, -1)]"
            ]
          },
          "metadata": {},
          "execution_count": 52
        }
      ]
    },
    {
      "cell_type": "code",
      "source": [
        "\n",
        "for i in range(len(moves)):\n",
        "  if moves[i] == (-1,0):\n",
        "    moves[i] = 'UP'\n",
        "  elif moves[i] == (1,0):\n",
        "    moves[i] = 'DOWN'\n",
        "  elif moves[i] == (0,-1):\n",
        "    moves[i] = 'LEFT'\n",
        "  elif moves[i] == (0,1):\n",
        "    moves[i] = 'RIGHT'\n",
        "\n",
        "moves"
      ],
      "metadata": {
        "colab": {
          "base_uri": "https://localhost:8080/"
        },
        "id": "23Oot0cgPA5v",
        "outputId": "a87e79b5-b80a-4e13-d3cb-c925f9e58367"
      },
      "execution_count": 53,
      "outputs": [
        {
          "output_type": "execute_result",
          "data": {
            "text/plain": [
              "['DOWN',\n",
              " 'DOWN',\n",
              " 'DOWN',\n",
              " 'DOWN',\n",
              " 'DOWN',\n",
              " 'DOWN',\n",
              " 'DOWN',\n",
              " 'RIGHT',\n",
              " 'RIGHT',\n",
              " 'RIGHT',\n",
              " 'RIGHT',\n",
              " 'UP',\n",
              " 'UP',\n",
              " 'RIGHT',\n",
              " 'RIGHT',\n",
              " 'RIGHT',\n",
              " 'RIGHT',\n",
              " 'RIGHT',\n",
              " 'UP',\n",
              " 'UP',\n",
              " 'LEFT',\n",
              " 'LEFT',\n",
              " 'LEFT',\n",
              " 'LEFT']"
            ]
          },
          "metadata": {},
          "execution_count": 53
        }
      ]
    },
    {
      "cell_type": "code",
      "source": [],
      "metadata": {
        "id": "BneDflc4PZrB"
      },
      "execution_count": 53,
      "outputs": []
    },
    {
      "cell_type": "code",
      "source": [],
      "metadata": {
        "id": "rAag2edlswr3"
      },
      "execution_count": 53,
      "outputs": []
    },
    {
      "cell_type": "code",
      "source": [],
      "metadata": {
        "id": "46qWg94Zszey"
      },
      "execution_count": 53,
      "outputs": []
    }
  ]
}